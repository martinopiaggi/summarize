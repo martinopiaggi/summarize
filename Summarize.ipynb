{
  "cells": [
    {
      "cell_type": "markdown",
      "metadata": {
        "id": "d9JJTVDCuTXD"
      },
      "source": [
        "\n",
        "https://github.com/martinopiaggi/summarize"
      ]
    },
    {
      "cell_type": "code",
      "execution_count": null,
      "metadata": {
        "cellView": "form",
        "id": "source_config"
      },
      "outputs": [],
      "source": [
        "# @markdown ## 🔗 **Source Configuration**\n",
        "\n",
        "# @markdown **Source Type**\n",
        "Type_of_source = \"YouTube Video\"  # @param [\"YouTube Video\", \"Google Drive Video Link\", \"Dropbox Video Link\", \"Local File\"]\n",
        "\n",
        "# @markdown **Source URL or Path**\n",
        "Source = \"https://www.youtube.com/watch?v=z5W74QC3v2I\"  # @param {type:\"string\"}\n",
        "\n",
        "# Set variables based on user input\n",
        "Type = Type_of_source\n",
        "URL = Source\n",
        "\n",
        "# @markdown **Use YouTube Captions**\n",
        "# @markdown If source is a Youtube video, it's recommended to use the available YouTube captions\n",
        "# @markdown to save on transcription time and API usage.\n",
        "use_Youtube_captions = True  # @param {type:\"boolean\"}\n",
        "\n",
        "# @markdown ---\n",
        "# @markdown ## 🌐 **API Configuration**\n",
        "# @markdown The summarization process uses the API key specified in `api_key` variable.\n",
        "# @markdown Ensure you have set the required environment variables or Colab secrets for your API keys.\n",
        "\n",
        "api_endpoint = \"OpenAI\"  # @param [\"Groq\", \"OpenAI\", \"Custom\"]\n",
        "\n",
        "# Define endpoints and models based on the selected API\n",
        "endpoints = {\n",
        "    \"Groq\": \"https://api.groq.com/openai/v1\",\n",
        "    \"OpenAI\": \"https://api.openai.com/v1\",\n",
        "    \"Custom\": \"https://api.deepseek.com/v1\"  # Default custom endpoint\n",
        "}\n",
        "base_url = endpoints.get(api_endpoint)\n",
        "\n",
        "# Define models based on the selected API\n",
        "models = {\n",
        "    \"Groq\": \"llama-3.3-70b-versatile\",\n",
        "    \"OpenAI\": \"gpt-4o\",\n",
        "    \"Custom\": \"deepseek-chat\"  # Default custom model\n",
        "}\n",
        "model = models.get(api_endpoint)\n",
        "\n",
        "# @markdown ---\n",
        "# @markdown ## 🎤 **Transcription Settings**\n",
        "# @markdown The transcription settings are applied only if you want to use Whisper transcription and not Youtube Captions.\n",
        "\n",
        "# @markdown If you plan to use Whisper API endpoint (only **Groq** endpoint is supported for now) you have to specify your Groq API key in `api_key_groq`.\n",
        "# @markdown If using locally Whisper: remember to switch the runtime type to a GPU instance (e.g., T4). Go to **Runtime** > **Change runtime type** and select **GPU** as the hardware accelerator.\n",
        "\n",
        "transcription_method = \"Cloud Whisper\"  # @param [\"Cloud Whisper\", \"Local Whisper\"]\n",
        "language = \"auto\"  # @param {type:\"string\"}\n",
        "initial_prompt = \"\"  # @param {type:\"string\"}"
      ]
    },
    {
      "cell_type": "markdown",
      "metadata": {
        "id": "mkQQUZcOuTXF"
      },
      "source": []
    },
    {
      "cell_type": "code",
      "execution_count": null,
      "metadata": {
        "id": "setup",
        "cellView": "form"
      },
      "outputs": [],
      "source": [
        "# @markdown ## 🛠️ Install Dependencies and Set Up Environment\n",
        "\n",
        "!pip install nest_asyncio\n",
        "!pip install git+https://github.com/martinopiaggi/summarize.git@feature/refactor-backend\n",
        "\n",
        "# Import and setup\n",
        "import os\n",
        "import nest_asyncio\n",
        "from dotenv import load_dotenv\n",
        "from summarizer import main, CONFIG\n",
        "import asyncio\n",
        "\n",
        "# Apply nest_asyncio for Colab compatibility\n",
        "nest_asyncio.apply()\n",
        "\n",
        "# Install source-specific dependencies\n",
        "if Type == \"Google Drive Video Link\":\n",
        "    from google.colab import drive\n",
        "    drive.mount('/content/drive')\n",
        "elif Type == \"Local File\":\n",
        "    from google.colab import files\n",
        "\n",
        "\n",
        "def get_api_key():\n",
        "    if api_endpoint == \"Groq\":\n",
        "      return get_groq_api_key()\n",
        "    try:\n",
        "        from google.colab import userdata\n",
        "        api_key = userdata.get('api_key')\n",
        "    except ImportError:\n",
        "        load_dotenv()\n",
        "        api_key = os.getenv('api_key')\n",
        "\n",
        "    if not api_key:\n",
        "        raise ValueError(\"API key not found in environment variables or Colab secrets\")\n",
        "\n",
        "    return api_key\n",
        "\n",
        "def get_groq_api_key():\n",
        "    try:\n",
        "        from google.colab import userdata\n",
        "        groq_api_key = userdata.get('api_key_groq')\n",
        "    except ImportError:\n",
        "        load_dotenv()\n",
        "        groq_api_key = os.getenv('api_key_groq')\n",
        "\n",
        "    if not groq_api_key:\n",
        "        raise ValueError(\"Groq API key not found in environment variables or Colab secrets\")\n",
        "\n",
        "    return groq_api_key\n",
        "\n",
        "api_key = get_api_key()\n",
        "groq_api_key = get_groq_api_key()\n",
        "\n",
        "# This lines so that we are sure that are set on Google Colab\n",
        "os.environ['api_key'] = api_key\n",
        "os.environ['api_key_groq'] = groq_api_key"
      ]
    },
    {
      "cell_type": "code",
      "execution_count": null,
      "metadata": {
        "cellView": "form",
        "id": "summary_settings"
      },
      "outputs": [],
      "source": [
        "# @markdown ## ⚙️ Configure Summarization Settings\n",
        "prompt_type = \"Questions and answers\"  # @param ['Summarization', 'Only grammar correction with highlights','Distill Wisdom', 'Questions and answers', 'Essay Writing in Paul Graham Style']\n",
        "parallel_api_calls = 30  # @param {type:\"slider\", min:1, max:60, step:1}\n",
        "chunk_size = 18000      # @param {type:\"slider\", min:2000, max:28000, step:2000}\n",
        "max_output_tokens = 4096  # @param {type:\"slider\", min:1024, max:8192, step:1024}"
      ]
    },
    {
      "cell_type": "code",
      "execution_count": null,
      "metadata": {
        "id": "run_summary",
        "cellView": "form"
      },
      "outputs": [],
      "source": [
        "# @markdown ## 🚀 Run Summarization\n",
        "\n",
        "if Type == \"Local File\" and not URL:\n",
        "    print(\"📁 Please upload your video file...\")\n",
        "    uploaded = files.upload()\n",
        "    if uploaded:\n",
        "        URL = list(uploaded.keys())[0]\n",
        "        print(f\"✅ Using uploaded file: {URL}\")\n",
        "\n",
        "# Configure settings\n",
        "CONFIG.update({\n",
        "    \"type_of_source\": Type,\n",
        "    \"source_url_or_path\": URL,\n",
        "    \"use_youtube_captions\": use_Youtube_captions if Type == \"YouTube Video\" else False,\n",
        "    \"transcription_method\": transcription_method,\n",
        "    \"language\": language,\n",
        "    \"initial_prompt\": initial_prompt,\n",
        "    \"prompt_type\": prompt_type,\n",
        "    \"parallel_api_calls\": parallel_api_calls,\n",
        "    \"chunk_size\": chunk_size,\n",
        "    \"max_output_tokens\": max_output_tokens,\n",
        "    \"base_url\": base_url,\n",
        "    \"model\": model\n",
        "})\n",
        "\n",
        "try:\n",
        "    print(\"\\n🎬 Starting summarization...\\n\")\n",
        "    final_summary = main(CONFIG)\n",
        "\n",
        "    # Save to file with metadata\n",
        "    filename = \"summary.md\"\n",
        "    with open(filename, \"w\", encoding=\"utf-8\") as f:\n",
        "        f.write(f\"# Summary for: {URL}\\n\\n\")\n",
        "        f.write(f\"Generated using: {model} at {base_url}\\n\\n\")\n",
        "        f.write(final_summary)\n",
        "    print(f\"\\n💾 Summary saved to {filename}\")\n",
        "\n",
        "except Exception as e:\n",
        "    print(f\"\\n❌ Error: {str(e)}\")\n",
        "    if \"api_key\" in str(e).lower():\n",
        "        print(\"\\n⚠️ Make sure you've set up your API keys in the configuration cell above!\")\n",
        "    elif \"ffmpeg\" in str(e).lower():\n",
        "        print(\"\\n⚠️ Installing ffmpeg...\")\n",
        "        !apt-get update && apt-get install -y ffmpeg\n",
        "        print(\"Please run the cell again.\")"
      ]
    }
  ],
  "metadata": {
    "accelerator": "GPU",
    "colab": {
      "provenance": []
    },
    "kernelspec": {
      "display_name": "Python 3",
      "name": "python3"
    },
    "language_info": {
      "name": "python",
      "version": "3.11.9"
    }
  },
  "nbformat": 4,
  "nbformat_minor": 0
}