{
 "cells": [
  {
   "cell_type": "markdown",
   "metadata": {},
   "source": [
    "<a href=\"https://colab.research.google.com/drive/16sLs1fJ7inP1wKw90zgk7Q_88N4sFU1v?usp=sharing\" target=\"_parent\">\n",
    "<img src=\"https://colab.research.google.com/assets/colab-badge.svg\" alt=\"Open In Colab\"/>\n",
    "</a>"
   ]
  },
  {
   "cell_type": "markdown",
   "metadata": {},
   "source": [
    "# https://github.com/martinopiaggi/summarize"
   ]
  },
  {
   "cell_type": "code",
   "execution_count": null,
   "metadata": {
    "cellView": "form"
   },
   "outputs": [],
   "source": [
    "# @markdown ## 🔗 **Source Configuration**\n",
    "\n",
    "# @markdown **Source Type**\n",
    "Type_of_source = \"YouTube Video\"  # @param [\"YouTube Video\", \"Google Drive Video Link\", \"Dropbox Video Link\", \"Local File\"]\n",
    "\n",
    "# @markdown **Source URL or Path**\n",
    "Source = \"\"  # @param {type:\"string\"}\n",
    "\n",
    "# Set variables based on user input\n",
    "Type = Type_of_source\n",
    "URL = Source\n",
    "\n",
    "# @markdown **Use YouTube Captions**\n",
    "# @markdown If source is a Youtube video, it's recommended to use the available YouTube captions \n",
    "# @markdown to save on transcription time and API usage.\n",
    "use_Youtube_captions = True  # @param {type:\"boolean\"}\n",
    "\n",
    "# @markdown ---\n",
    "# @markdown ## 🌐 **API Configuration**\n",
    "# @markdown The summarization process uses the API key specified in `api_key` variable. \n",
    "# @markdown Ensure you have set the required environment variables or Colab secrets for your API keys.\n",
    "\n",
    "api_endpoint = \"Groq\"  # @param [\"Groq\", \"OpenAI\", \"Custom\"]\n",
    "\n",
    "# @markdown ---\n",
    "# @markdown ## 🎤 **Transcription Settings**\n",
    "# @markdown These settings apply only if you want to use Whisper (Cloud or Local),\n",
    "# @markdown otherwise YouTube captions (if available) will be used.\n",
    "\n",
    "transcription_method = \"Cloud Whisper\"  # @param [\"Cloud Whisper\", \"Local Whisper\"]\n",
    "language = \"auto\"  # @param {type:\"string\"}\n",
    "initial_prompt = \"\"  # @param {type:\"string\"}"
   ]
  },
  {
   "cell_type": "markdown",
   "metadata": {},
   "source": [
    "## Install Dependencies and Set Up Environment"
   ]
  },
  {
   "cell_type": "code",
   "execution_count": null,
   "metadata": {},
   "outputs": [],
   "source": [
    "# For Google Drive integration (if needed)\n",
    "if Type == \"Google Drive Video Link\":\n",
    "    from google.colab import drive\n",
    "    drive.mount('/content/drive')\n",
    "\n",
    "# Install the package and all dependencies\n",
    "!pip install --quiet git+https://github.com/martinopiaggi/summarize.git\n",
    "\n",
    "# Import required modules\n",
    "import os\n",
    "from dotenv import load_dotenv\n",
    "from summarizer import main, CONFIG"
   ]
  },
  {
   "cell_type": "markdown",
   "metadata": {},
   "source": [
    "## Configure Summarization Settings"
   ]
  },
  {
   "cell_type": "code",
   "execution_count": null,
   "metadata": {
    "cellView": "form"
   },
   "outputs": [],
   "source": [
    "# @markdown Prompt type to use from prompts.json\n",
    "prompt_type = \"Questions and answers\"  # @param ['Summarization', 'Only grammar correction with highlights','Distill Wisdom', 'Questions and answers', 'Essay Writing in Paul Graham Style']\n",
    "parallel_api_calls = 30  # @param\n",
    "chunk_size = 10000      # @param\n",
    "overlap_size = 20       # @param\n",
    "max_output_tokens = 4096  # @param"
   ]
  },
  {
   "cell_type": "code",
   "execution_count": null,
   "metadata": {},
   "outputs": [],
   "source": [
    "# Configure settings\n",
    "CONFIG.update({\n",
    "    \"type_of_source\": Type,\n",
    "    \"source_url_or_path\": URL,\n",
    "    \"use_youtube_captions\": use_Youtube_captions,\n",
    "    \"api_endpoint\": api_endpoint,\n",
    "    \"transcription_method\": transcription_method,\n",
    "    \"language\": language,\n",
    "    \"initial_prompt\": initial_prompt,\n",
    "    \"prompt_type\": prompt_type,\n",
    "    \"parallel_api_calls\": parallel_api_calls,\n",
    "    \"chunk_size\": chunk_size,\n",
    "    \"overlap_size\": overlap_size,\n",
    "    \"max_output_tokens\": max_output_tokens\n",
    "})\n",
    "\n",
    "# Run summarization\n",
    "final_summary = main(CONFIG)\n",
    "print(final_summary)\n",
    "\n",
    "# Save to file\n",
    "with open(\"final_summary.md\", \"w\", encoding=\"utf-8\") as f:\n",
    "    f.write(final_summary)"
   ]
  },
  {
   "cell_type": "markdown",
   "metadata": {},
   "source": [
    "### Clean folder (optional)\n",
    "\n",
    "Use with caution\n",
    "`!rm *.md`"
   ]
  },
  {
   "cell_type": "code",
   "execution_count": null,
   "metadata": {},
   "outputs": [],
   "source": [
    "# !rm *.md"
   ]
  }
 ],
 "metadata": {
  "accelerator": "GPU",
  "colab": {
   "provenance": []
  },
  "kernelspec": {
   "display_name": "Python 3",
   "name": "python3"
  },
  "language_info": {
   "name": "python"
  }
 },
 "nbformat": 4,
 "nbformat_minor": 0
}
